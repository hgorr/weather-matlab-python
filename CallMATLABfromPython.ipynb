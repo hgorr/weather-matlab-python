{
 "cells": [
  {
   "cell_type": "markdown",
   "metadata": {},
   "source": [
    "# Predict Air Quality: Calling MATLAB from Python Using MATLAB Engine API"
   ]
  },
  {
   "cell_type": "markdown",
   "metadata": {},
   "source": [
    "Import the weather data and use the MATLAB code to predict air quality.\n",
    "\n",
    "This example uses the MATLAB Engine API, which runs a MATLAB session. More info and set up instructions are included here: https://www.mathworks.com/help/matlab/matlab-engine-for-python.html\n",
    "\n",
    "First, import and start MATLAB through the MATLAB Engine API."
   ]
  },
  {
   "cell_type": "code",
   "execution_count": 9,
   "metadata": {},
   "outputs": [],
   "source": [
    "import matlab.engine"
   ]
  },
  {
   "cell_type": "code",
   "execution_count": 10,
   "metadata": {},
   "outputs": [],
   "source": [
    "m = matlab.engine.start_matlab()\n",
    "# m = matlab.engine.start_matlab(\"-desktop\")"
   ]
  },
  {
   "cell_type": "markdown",
   "metadata": {},
   "source": [
    "Test a simple function "
   ]
  },
  {
   "cell_type": "code",
   "execution_count": 11,
   "metadata": {},
   "outputs": [
    {
     "name": "stdout",
     "output_type": "stream",
     "text": [
      "6.48074069840786\n"
     ]
    }
   ],
   "source": [
    "x = m.sqrt(42.0)\n",
    "print(x)"
   ]
  },
  {
   "cell_type": "markdown",
   "metadata": {},
   "source": [
    "Specify number of output arguments (also for zero outputs)"
   ]
  },
  {
   "cell_type": "code",
   "execution_count": 12,
   "metadata": {},
   "outputs": [
    {
     "name": "stdout",
     "output_type": "stream",
     "text": [
      "(5, 0)\n"
     ]
    }
   ],
   "source": [
    "x = m.gcd(10,5,nargout=2)\n",
    "print(x)"
   ]
  },
  {
   "cell_type": "code",
   "execution_count": 13,
   "metadata": {},
   "outputs": [
    {
     "data": {
      "text/plain": [
       "0"
      ]
     },
     "execution_count": 13,
     "metadata": {},
     "output_type": "execute_result"
    }
   ],
   "source": [
    "x[1]"
   ]
  },
  {
   "cell_type": "markdown",
   "metadata": {},
   "source": [
    "Exchange data between workspaces"
   ]
  },
  {
   "cell_type": "code",
   "execution_count": 14,
   "metadata": {},
   "outputs": [],
   "source": [
    "m.workspace['a'] = 42"
   ]
  },
  {
   "cell_type": "code",
   "execution_count": 15,
   "metadata": {},
   "outputs": [],
   "source": [
    "m.desktop(nargout=0) # reveals MATLAB desktop if started in default headless mode"
   ]
  },
  {
   "cell_type": "markdown",
   "metadata": {},
   "source": [
    "## Use MATLAB to predict temperature"
   ]
  },
  {
   "cell_type": "markdown",
   "metadata": {},
   "source": [
    "Read the current weather data"
   ]
  },
  {
   "cell_type": "code",
   "execution_count": 16,
   "metadata": {},
   "outputs": [],
   "source": [
    "import weather"
   ]
  },
  {
   "cell_type": "code",
   "execution_count": 17,
   "metadata": {},
   "outputs": [
    {
     "name": "stdout",
     "output_type": "stream",
     "text": [
      "{'temp': 280.32, 'pressure': 1012, 'humidity': 81, 'temp_min': 279.15, 'temp_max': 281.15, 'speed': 4.1, 'deg': 80, 'lon': -0.13, 'lat': 51.51, 'city': 'London', 'current_time': '2022-08-25 14:59:37.352525'}\n"
     ]
    }
   ],
   "source": [
    "appid ='b1b15e88fa797225412429c1c50c122a1'\n",
    "json_data = weather.get_current_weather(\"London\",\"UK\",appid,api=\"samples\")\n",
    "data = weather.parse_current_json(json_data)\n",
    "print(data)"
   ]
  },
  {
   "cell_type": "markdown",
   "metadata": {},
   "source": [
    "Predict air quality from user-defined function."
   ]
  },
  {
   "cell_type": "code",
   "execution_count": 18,
   "metadata": {},
   "outputs": [
    {
     "name": "stdout",
     "output_type": "stream",
     "text": [
      "Good\n"
     ]
    }
   ],
   "source": [
    "aq = m.predictAirQual(data)\n",
    "print(aq)"
   ]
  },
  {
   "cell_type": "markdown",
   "metadata": {},
   "source": [
    "Going further in data preprocessing"
   ]
  },
  {
   "cell_type": "code",
   "execution_count": 19,
   "metadata": {},
   "outputs": [
    {
     "name": "stdout",
     "output_type": "stream",
     "text": [
      "{'current_time': ['2017-02-16 12:00:00', '2017-02-16 15:00:00', '2017-02-16 18:00:00', '2017-02-16 21:00:00', '2017-02-17 00:00:00', '2017-02-17 03:00:00', '2017-02-17 06:00:00', '2017-02-17 09:00:00', '2017-02-17 12:00:00', '2017-02-17 15:00:00', '2017-02-17 18:00:00', '2017-02-17 21:00:00', '2017-02-18 00:00:00', '2017-02-18 03:00:00', '2017-02-18 06:00:00', '2017-02-18 09:00:00', '2017-02-18 12:00:00', '2017-02-18 15:00:00', '2017-02-18 18:00:00', '2017-02-18 21:00:00', '2017-02-19 00:00:00', '2017-02-19 03:00:00', '2017-02-19 06:00:00', '2017-02-19 09:00:00', '2017-02-19 12:00:00', '2017-02-19 15:00:00', '2017-02-19 18:00:00', '2017-02-19 21:00:00', '2017-02-20 00:00:00', '2017-02-20 03:00:00', '2017-02-20 06:00:00', '2017-02-20 09:00:00', '2017-02-20 12:00:00', '2017-02-20 15:00:00', '2017-02-20 18:00:00', '2017-02-20 21:00:00'], 'temp': [286.67, 285.66, 277.05, 272.78, 273.341, 275.568, 276.478, 276.67, 278.253, 276.455, 275.639, 275.459, 275.035, 274.965, 274.562, 275.648, 277.927, 278.367, 273.797, 271.239, 269.553, 268.198, 267.295, 272.956, 277.422, 277.984, 272.459, 269.473, 268.793, 268.106, 267.655, 273.75, 279.302, 279.343, 274.443, 272.424], 'deg': [247.501, 290.501, 263.5, 205.502, 224.003, 237.002, 268.005, 266.504, 261.501, 268.001, 258.001, 265.503, 273.5, 285.502, 276.5, 251.008, 244.004, 79.5024, 77.0026, 95.5017, 101.004, 121.5, 155.005, 195.002, 357.003, 48.5031, 75.5042, 174.002, 207.502, 191.001, 194.001, 208.5, 252.001, 268.001, 257.501, 255.503], 'speed': [1.81, 1.59, 1.41, 2.24, 3.59, 3.77, 3.81, 2.6, 3.17, 3.21, 3.17, 3.71, 3.56, 2.66, 1.46, 1.5, 0.86, 1.62, 2.42, 2.42, 1.96, 1.06, 1.17, 1.66, 1.32, 1.58, 1.16, 1.12, 2.11, 1.67, 1.61, 2.49, 2.46, 3.21, 3.27, 3.57], 'humidity': [75.0, 70.0, 90.0, 80.0, 85.0, 89.0, 97.0, 100.0, 95.0, 99.0, 95.0, 96.0, 99.0, 97.0, 98.0, 99.0, 95.0, 89.0, 91.0, 93.0, 92.0, 84.0, 86.0, 84.0, 89.0, 87.0, 90.0, 83.0, 80.0, 85.0, 84.0, 83.0, 83.0, 81.0, 88.0, 85.0], 'pressure': [972.73, 970.91, 970.44, 969.32, 968.14, 966.6, 966.45, 967.41, 966.98, 966.38, 966.39, 966.3, 966.43, 966.36, 966.75, 967.21, 966.06, 964.57, 964.13, 963.39, 962.39, 961.28, 961.16, 962.03, 962.23, 962.15, 963.31, 964.65, 965.92, 966.4, 967.4, 968.84, 968.37, 967.9, 968.19, 968.38]}\n"
     ]
    }
   ],
   "source": [
    "json_data = weather.get_forecast(\"Muenchen\",\"DE\",appid,api=\"samples\")\n",
    "data = weather.parse_forecast_json(json_data)\n",
    "print(data)"
   ]
  },
  {
   "cell_type": "markdown",
   "metadata": {},
   "source": [
    "Send to the MATLAB workspace for further processing"
   ]
  },
  {
   "cell_type": "code",
   "execution_count": 20,
   "metadata": {},
   "outputs": [],
   "source": [
    "t = matlab.double(data['temp'])\n",
    "m.workspace['t'] = t\n",
    "m.signalAnalyzer(nargout=0)"
   ]
  },
  {
   "cell_type": "code",
   "execution_count": 21,
   "metadata": {},
   "outputs": [],
   "source": [
    "m.workspace['data'] = data\n",
    "m.eval(\"TT = timetable(datetime(string(data.current_time))',cell2mat(data.temp)','VariableNames',{'Temp'})\",nargout=0)"
   ]
  },
  {
   "cell_type": "markdown",
   "metadata": {},
   "source": [
    "On the MATLAB side, creates a timetable:\n",
    "```matlab\n",
    "TT = timetable(datetime(string(data.current_time))',cell2mat(data.temp)','VariableNames',{'Temp'})\n",
    "```\n",
    "\n",
    "Another alternative is to create a csv file to import from MATLAB"
   ]
  },
  {
   "cell_type": "code",
   "execution_count": 22,
   "metadata": {},
   "outputs": [],
   "source": [
    "import csv\n",
    "with open(\"data.csv\",\"w\") as f:\n",
    "    write = csv.writer(f,lineterminator = '\\n')\n",
    "    write.writerow(['Time','Temp'])\n",
    "    write.writerows([[data['current_time'][i],data['temp'][i]] for i in range(36)])"
   ]
  },
  {
   "cell_type": "code",
   "execution_count": 23,
   "metadata": {},
   "outputs": [],
   "source": [
    "m.dataCleaner(nargout=0)"
   ]
  },
  {
   "cell_type": "markdown",
   "metadata": {},
   "source": [
    "Export the processing steps as a function `preprocess.m`"
   ]
  },
  {
   "cell_type": "code",
   "execution_count": 1,
   "metadata": {},
   "outputs": [],
   "source": [
    "# TT = m.workspace['TT']\n",
    "# TT2 = m.preprocess(TT)\n",
    "# m.parquetwrite(\"data.parquet\",TT2,nargout=0)"
   ]
  },
  {
   "cell_type": "code",
   "execution_count": null,
   "metadata": {},
   "outputs": [
    {
     "data": {
      "text/plain": [
       "<AxesSubplot:>"
      ]
     },
     "execution_count": 23,
     "metadata": {},
     "output_type": "execute_result"
    },
    {
     "data": {
      "image/png": "[encoded data removed]",
      "text/plain": [
       "<Figure size 432x288 with 1 Axes>"
      ]
     },
     "metadata": {
      "needs_background": "light"
     },
     "output_type": "display_data"
    }
   ],
   "source": [
    "# import pandas as pd\n",
    "# pd.read_parquet('data.parquet').plot(y='Temp')"
   ]
  },
  {
   "cell_type": "markdown",
   "metadata": {},
   "source": [
    "Exit the MATLAB engine"
   ]
  },
  {
   "cell_type": "code",
   "execution_count": 25,
   "metadata": {},
   "outputs": [],
   "source": [
    "m.exit()"
   ]
  }
 ],
 "metadata": {
  "kernelspec": {
   "display_name": "Python 3.9.13 64-bit",
   "language": "python",
   "name": "python3"
  },
  "language_info": {
   "codemirror_mode": {
    "name": "ipython",
    "version": 3
   },
   "file_extension": ".py",
   "mimetype": "text/x-python",
   "name": "python",
   "nbconvert_exporter": "python",
   "pygments_lexer": "ipython3",
   "version": "3.9.13"
  },
  "vscode": {
   "interpreter": {
    "hash": "81794d4967e6c3204c66dcd87b604927b115b27c00565d3d43f05ba2f3a2cb0d"
   }
  }
 },
 "nbformat": 4,
 "nbformat_minor": 4
}
