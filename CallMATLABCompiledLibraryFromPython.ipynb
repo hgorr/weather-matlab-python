{
 "cells": [
  {
   "cell_type": "markdown",
   "metadata": {},
   "source": [
    "# Predict Air Quality: Calling MATLAB from Python Using MATLAB Runtime"
   ]
  },
  {
   "cell_type": "markdown",
   "metadata": {},
   "source": [
    "Import the weather data and use the MATLAB code to predict air quality.\n",
    "\n",
    "Use the MATLAB Runtime to call the model and code, which does not require a MATLAB installation or license to use. More info here: https://www.mathworks.com/help/compiler_sdk/python_packages.html\n",
    "\n",
    "First, install the Compiled Python library by going in the for_testing folder and execute the install command class (open a terminal with Ctrl+ù from VScode or the good old Windows cmd):\n",
    " * `cd AirQual\\for_testing`\n",
    " * `python setup.py install`\n"
   ]
  },
  {
   "cell_type": "markdown",
   "metadata": {},
   "source": [
    "#### Read the current weather data"
   ]
  },
  {
   "cell_type": "code",
   "execution_count": 1,
   "metadata": {},
   "outputs": [],
   "source": [
    "import weather"
   ]
  },
  {
   "cell_type": "code",
   "execution_count": 2,
   "metadata": {},
   "outputs": [
    {
     "name": "stdout",
     "output_type": "stream",
     "text": [
      "{'temp': 280.32, 'pressure': 1012, 'humidity': 81, 'temp_min': 279.15, 'temp_max': 281.15, 'speed': 4.1, 'deg': 80, 'lon': -0.13, 'lat': 51.51, 'city': 'London', 'current_time': '2022-07-27 14:14:20.500642'}\n"
     ]
    }
   ],
   "source": [
    "appid ='b1b15e88fa797225412429c1c50c122a1'\n",
    "json_data = weather.get_current_weather(\"London\",\"UK\",appid,api=\"samples\")\n",
    "data = weather.parse_current_json(json_data)\n",
    "print(data)"
   ]
  },
  {
   "cell_type": "markdown",
   "metadata": {},
   "source": [
    "#### Use MATLAB to predict air quality\n",
    "Import the package created from MATLAB"
   ]
  },
  {
   "cell_type": "code",
   "execution_count": 6,
   "metadata": {},
   "outputs": [],
   "source": [
    "import AirQual"
   ]
  },
  {
   "cell_type": "code",
   "execution_count": 7,
   "metadata": {},
   "outputs": [],
   "source": [
    "aq = AirQual.initialize()"
   ]
  },
  {
   "cell_type": "code",
   "execution_count": 8,
   "metadata": {},
   "outputs": [
    {
     "name": "stdout",
     "output_type": "stream",
     "text": [
      "Good\n"
     ]
    }
   ],
   "source": [
    "label = aq.predictAirQual(data)\n",
    "print(label)"
   ]
  },
  {
   "cell_type": "markdown",
   "metadata": {},
   "source": [
    "Terminate the MATLAB instance"
   ]
  },
  {
   "cell_type": "code",
   "execution_count": 9,
   "metadata": {},
   "outputs": [],
   "source": [
    "aq.terminate()"
   ]
  }
 ],
 "metadata": {
  "kernelspec": {
   "display_name": "Python 3.9.10 64-bit (system)",
   "language": "python",
   "name": "python3"
  },
  "language_info": {
   "codemirror_mode": {
    "name": "ipython",
    "version": 3
   },
   "file_extension": ".py",
   "mimetype": "text/x-python",
   "name": "python",
   "nbconvert_exporter": "python",
   "pygments_lexer": "ipython3",
   "version": "3.9.10"
  },
  "vscode": {
   "interpreter": {
    "hash": "d02b62e36541e848aed019d340cd2a3fd00dd10c74aeeeeffbdb1150b8866d26"
   }
  }
 },
 "nbformat": 4,
 "nbformat_minor": 4
}
